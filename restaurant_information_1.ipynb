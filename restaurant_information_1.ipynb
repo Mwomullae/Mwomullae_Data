{
  "cells": [
    {
      "cell_type": "markdown",
      "source": [
        "---\n",
        "# 01. Data Extraction: 망고 플레이트 \n",
        "---"
      ],
      "metadata": {
        "id": "YTpfQphKiJd-"
      }
    },
    {
      "cell_type": "code",
      "source": [
        "import pandas as pd\n",
        "import numpy as np\n",
        "import re\n",
        "from bs4 import BeautifulSoup\n",
        "from urllib.request import urlopen, Request\n",
        "import time"
      ],
      "metadata": {
        "id": "k7C4lpxCWSCq"
      },
      "execution_count": 99,
      "outputs": []
    },
    {
      "cell_type": "code",
      "source": [
        "title = \"\"\n",
        "name = [] \n",
        "details_site = []\n",
        "\n",
        "address   = []\n",
        "food_type = []\n",
        "star_rating  = []\n",
        "phone_number = []"
      ],
      "metadata": {
        "id": "azHRVMa2WS0q"
      },
      "execution_count": 100,
      "outputs": []
    },
    {
      "cell_type": "code",
      "source": [
        "for page in range(9):\n",
        "    url  = f\"https://www.mangoplate.com/search/%EC%82%AC%ED%95%98%EA%B5%AC%20%ED%95%98%EB%8B%A8%EB%8F%99%20?keyword=%EC%82%AC%ED%95%98%EA%B5%AC%20%ED%95%98%EB%8B%A8%EB%8F%99&page={page+1}\"\n",
        "    req  = Request(url, headers={\"User-Agent\": \"Chrome\"})\n",
        "    time.sleep(4)\n",
        "\n",
        "    html = urlopen(req)\n",
        "    mang = BeautifulSoup(html, \"html.parser\")\n",
        "    \n",
        "    # 상위 태그\n",
        "    list_soup = mang.find_all('div', 'info')\n",
        "\n",
        "    for item in list_soup:\n",
        "        details_site.append(item.find(\"a\")[\"href\"])\n",
        "        value = item.find('h2', 'title').text\n",
        "\n",
        "        for i in range(len(value)):\n",
        "            if(value[i] != \"\\n\"):\n",
        "                title = title + value[i]\n",
        "            else:\n",
        "                break\n",
        "        name.append(title)\n",
        "        title = \"\"\n",
        "        \n",
        "    for i in details_site:\n",
        "        url = \"https://www.mangoplate.com\" + i\n",
        "        req = Request(url, headers={\"User-Agent\": \"Chrome\"})\n",
        "\n",
        "        html = urlopen(req)\n",
        "        mang = BeautifulSoup(html, \"html.parser\")\n",
        "\n",
        "        # 상위 태그\n",
        "        list_soup = mang.find_all('tr', 'only-desktop')\n",
        "\n",
        "        count = 0\n",
        "        # 음식점 주소 & 전화번호 정보 둘 다 있는 경우 \n",
        "        if(len(list_soup) == 2):\n",
        "            for i in list_soup:\n",
        "                if(count == 0):\n",
        "                    adr = i.find(\"span\", \"Restaurant__InfoAddress--Text\")\n",
        "                    if(adr != None):\n",
        "                        adr = adr.text\n",
        "                        address.append(adr) \n",
        "                else:\n",
        "                    num = i.find(\"td\")\n",
        "                    phone_number.append(num)\n",
        "\n",
        "                count = count + 1     \n",
        "\n",
        "        # 음식점 이름 | 전화번호 정보 둘 중 하나만 있는 경우 \n",
        "        elif (len(list_soup) == 1):\n",
        "            for i in list_soup:\n",
        "                if(count == 0):\n",
        "                    adr = i.find(\"span\", \"Restaurant__InfoAddress--Text\")\n",
        "                    if(adr != None):\n",
        "                        adr = adr.text\n",
        "                        address.append(adr) \n",
        "                        phone_number.append(\"NaN\")\n",
        "                else:\n",
        "                    num = i.find(\"td\")\n",
        "                    phone_number.append(num)\n",
        "                    address.append(\"NaN\")\n",
        "\n",
        "                count = count + 1\n",
        "                \n",
        "    details_site = []"
      ],
      "metadata": {
        "id": "dThTA1v8WYEI"
      },
      "execution_count": 101,
      "outputs": []
    },
    {
      "cell_type": "code",
      "source": [
        "print(len(name))\n",
        "print(name)"
      ],
      "metadata": {
        "colab": {
          "base_uri": "https://localhost:8080/"
        },
        "id": "9aYsno__bc-L",
        "outputId": "986ebf64-c6cb-4ac5-f52c-69b59dc64de9"
      },
      "execution_count": 102,
      "outputs": [
        {
          "output_type": "stream",
          "name": "stdout",
          "text": [
            "176\n",
            "['복성반점', '담쟁이', '영성방', '누리봄', '더덕먹은제주뚱돼지', '포차카센타', '은화수식당', '오공복이', '가장맛있는족발', '이따가', '긴타로', '쉬림핀', '소문난흥부네집', '열정짬뽕', '더브런치하우스', '동경하레', '한우장사', '바바분식', '통영식당', '키다리돼지국밥', '달달하단', '전가복', '정원', '오늘김해뒷고기', '야바이', '박배철과자점', '가우리매운갈비찜', '댄디', '제일돌곱창', '최가네촌국수', '연송칼국수', '우돼끼리', '천안문', '하남돼지집', '홍갓츠', '젠틀러커피', '칠칠켄터키', '1979남포통닭', '블랙업커피', '행복한밥상', '빨간염소', '대가초밥', '을숙도횟집', '쿠술집', '하기연진주냉면', '무봤나촌닭', '봉대박스파게티', '서가앤쿡', '충만치킨', '해운대신대구탕', '아웃백스테이크하우스', '대길림성', '연주정 숯불갈비', '순대마을', '이모식당', '족발쌀롱', '청송집', '카츠마루', '우리집으로식당', '에바돈가츠 키햐아', '돈미담', '하단본가콩나물국밥', '아방곱창', '다이레순두부', '미소돈까스', '플레이그라운드', '남다른감자탕', '면에빠지다', '노랑통닭', '아마스빈', '백미당', '짜가후라이드치킨', '새빨간죠스찜닭', '만족', '요코즈나', '오거리밀면', '아사', '인오프', '순두부식당', '청춘곱도리탕', '팔공티', '이디야커피', '콩불', '누리마을감자탕', '안가', '콩시루', '빽다방', '이쯔모', '청림', '가락정칼국수', '동원장수촌', '해월관', '일봉초밥', '어사리횟집', '통영굴구이', '본죽', '강변기사식당', '하단꼼장어', '꽃마름', '느티나무생한우숯불구이', '다오리과자점', '맘스터치', '툴라레스토랑', '송원식당', '조은참치', '대가야', '선미아구찜', '써브웨이', '고봉민김밥인', '카푸치노', '구이마루', '청양일초하단쭈꾸미', '다기야', '가락횟집', '강동농원', '닭쟁이피자쟁이', '에덴칼국수', '이바돔감자탕', '올타미스터스시', '김밥왕국', '설빙', '생생돈까스', '바르미샤브칼국수', '장작발효삼겹메주', '한옥마을전주비빔밥', '황금오리또오리', '바르다김선생', '소노', '대독장', '부산양곱창', '소담치킨', '여울돈단지', '더밥하우스', '겐슈', '소잡는날', '강정구의피자생각', '다빈향', '흑앤돈', '카페포그', '곧망할집연탄구이', '유가네닭갈비', '꾸븐', '장충동왕족발보쌈', '골목분식', '남해횟집', '동경', '홍익궁중전통육개장', '토종생오리농원', '오사마', '봉수산', '836바베큐치킨', '너랑나랑분식', '화족치즈쌈', '주인의주방', '모두와', '크랩비', '김해뒷고기', '하이뽕', '화덕애', '겐조', '맛있는파닭', '카페순덕', '성일숯불갈비', '북창동순두부', '티그로커피샵', '국밥파는남자보쌈파는여자', '칠공삼회관', '산호초횟집', '하단돼지국밥', '백스비어', '리춘시장', '백호횟집', '내키고', '멕스타코', '동아분식', '하단끝집']\n"
          ]
        }
      ]
    },
    {
      "cell_type": "code",
      "source": [
        "print(len(address))\n",
        "print(address)"
      ],
      "metadata": {
        "colab": {
          "base_uri": "https://localhost:8080/"
        },
        "id": "Vqrpze6_bk6T",
        "outputId": "9e62ebdf-bb8f-42b5-cdeb-b43b0925dad3"
      },
      "execution_count": 103,
      "outputs": [
        {
          "output_type": "stream",
          "name": "stdout",
          "text": [
            "176\n",
            "['부산시 사하구 하단동 605-38', '부산시 사하구 하단동 198', '부산시 사하구 하단동 1179-7', '부산시 사하구 하단동 1151-14', '부산시 사하구 하단동 515-25', '부산시 사하구 하단동 499-21', '부산시 사하구 하단동 494-3', '부산시 사하구 하단동 529-6', '부산시 사하구 하단동 527-4', '부산시 사하구 하단동 605-13', '부산시 사하구 하단동 527-18', '부산시 사하구 하단동 116-7 B동 1F', '부산시 사하구 하단동 503-4', '부산시 사하구 하단동 615-9', '부산시 사하구 하단동 504-10 1F', '부산시 사하구 하단동 476-10', '부산시 사하구 하단동 616-2', '부산시 사하구 하단동 199-1', '부산시 사하구 하단동 517-28', '부산시 사하구 하단동 619-2', '부산시 사하구 하단동 887-7 헤를리치 1F', '부산시 사하구 하단동 870-19', '부산시 사하구 하단동 589-31', '부산시 사하구 하단동 504-2', '부산시 사하구 하단동 504-7', '부산시 사하구 하단동 526-6 아트몰링 부산점 B1', '부산시 사하구 하단동 505-15', '부산시 사하구 하단동 497-1', '부산시 사하구 하단동 490-15', '부산시 사하구 하단동 1180-14', '부산시 사하구 하단동 503-10 1F', '부산시 사하구 하단동 511-1 1F', '부산시 사하구 하단동 615-8', '부산시 사하구 하단동 512-3', '부산시 사하구 하단동 497-18 1F', '부산시 사하구 하단동 490-25 1-2F', '부산시 사하구 하단동 499-29', '부산시 사하구 하단동 887-2', '부산시 사하구 하단동 1149-4', '부산시 사하구 하단동 503-26', '부산시 사하구 하단동 624-23', '부산시 사하구 하단동 534-2 3F', '부산시 사하구 하단동 504-23', '부산시 사하구 하단동 511-10 도스베건물 4F', '부산시 사하구 하단동 239-1', '부산시 사하구 하단동 497-8', '부산시 사하구 하단동 492-41', '부산시 사하구 하단동 511-7 정석빌딩 2F', '부산시 사하구 하단동 477-7', '부산시 사하구 하단동 525-21', '부산시 사하구 하단동 525-7', '부산시 사하구 하단동 1185-4', '부산시 사하구 하단동 889-1', '부산시 사하구 하단동 527-36', '부산시 사하구 하단동 816-7', '부산시 사하구 하단동 499-31', '부산시 사하구 하단동 845-28', '부산시 사하구 하단동 492-17', '부산시 사하구 하단동 816-3', '부산시 사하구 하단동 623-11 1F', '부산시 사하구 하단동 474', '부산시 사하구 하단동 596-3 1F', '부산시 사하구 하단동 489-22', '부산시 사하구 하단동 885-1', '부산시 사하구 하단동 870-236', '부산시 사하구 하단동 497-18', '부산시 사하구 하단동 506-6', '부산시 사하구 하단동 520-1', '부산시 사하구 하단동 489-48', '부산시 사하구 하단동 497-28', '부산시 사하구 하단동 526-6 아트몰링 부산점', '부산시 사하구 하단동 492-5', '부산시 사하구 하단동 494-4', '부산시 사하구 하단동 496-6', '부산시 사하구 하단동 489-2', '부산시 사하구 하단동 608-17', '부산시 사하구 하단동 590-14 2F', '부산시 사하구 하단동 510-19', '부산시 사하구 하단동 497-8', '부산시 사하구 하단동 498-19', '부산시 사하구 하단동 496-13 1F', '부산시 사하구 하단동 589-13', '부산시 사하구 하단동 816-3', '부산시 사하구 하단동 528-6', '부산시 사하구 하단동 617-17', '부산시 사하구 하단동 596-3', '부산시 사하구 하단동 816-3', '부산시 사하구 하단동 498-20', '부산시 사하구 하단동 605-13', '부산시 사하구 하단동 887-8', '부산시 사하구 하단동 1218', '부산시 사하구 하단동 522-14', '부산시 사하구 하단동 614-1', '부산시 사하구 하단동 505-16', '부산시 사하구 하단동 608-73', '부산시 사하구 하단동 1180-10', '부산시 사하구 하단동 602-3', '부산시 사하구 하단동 514-31', '부산시 사하구 하단동 528-11 삼성전자사옥 2F', '부산시 사하구 하단동 607-4', '부산시 사하구 하단동 623-2', '부산시 사하구 하단동 1180-10', '부산시 사하구 하단동 490-20 라인파크빌딩 5F', '부산시 사하구 하단동 625-3', '부산시 사하구 하단동 526-11', '부산시 사하구 하단동 894-2', '부산시 사하구 하단동 431', '부산시 사하구 하단동 492-2', '부산시 사하구 하단동 592-3', '부산시 사하구 하단동 526-11 프린스빌딩 2F', '부산시 사하구 하단동 512-30', '부산시 사하구 하단동 607-9', '부산시 사하구 하단동 1168', '부산시 사하구 하단동 1165-9', '부산시 사하구 하단동 511-3', '부산시 사하구 하단동 67-3', '부산시 사하구 하단동 499-38', '부산시 사하구 하단동 534-13', '부산시 사하구 하단동 595-23', '부산시 사하구 하단동 503-12', '부산시 사하구 하단동 528-9', '부산시 사하구 하단동 251-5', '부산시 사하구 하단동 893-9', '부산시 사하구 하단동 144-5', '부산시 사하구 하단동 526-6 아트몰링 14F', '부산시 사하구 하단동 498-4', '부산시 사하구 하단동 529-11', '부산시 사하구 하단동 476-10', '부산시 사하구 하단동 592-12', '부산시 사하구 하단동 498-12', '부산시 사하구 하단동 870-207', '부산시 사하구 하단동 116-2', '부산시 사하구 하단동 497-7', '부산시 사하구 하단동 517-1', '부산시 사하구 하단동 513-7', '부산시 사하구 하단동 240-7', '부산시 사하구 하단동 476-3', '부산시 사하구 하단동 487-5', '부산시 사하구 하단동 498-12 2F', '부산시 사하구 하단동 490-16 은혜원룸', '부산시 사하구 하단동 497-17', '부산시 사하구 하단동 500-4', '부산시 사하구 하단동 476-1', '부산시 사하구 하단동 624-8', '부산시 사하구 하단동 589-24', '부산시 사하구 하단동 505-18', '부산시 사하구 하단동 589-22', '부산시 사하구 하단동 600-1', '부산시 사하구 하단동 489-33', '부산시 사하구 하단동 476-6', '부산시 사하구 하단동 52-2', '부산시 사하구 하단동 496-13', '부산시 사하구 하단동 511-10', '부산시 사하구 하단동 499-21', '부산시 사하구 하단동 490-1', '부산시 사하구 하단동 529-4', '부산시 사하구 하단동 498-21', '부산시 사하구 하단동 496-12', '부산시 사하구 하단동 618-23', '부산시 사하구 하단동 511-1 1F', '부산시 사하구 하단동 485-4', '부산시 사하구 하단동 505-12', '부산시 사하구 하단동 499-29', '부산시 사하구 하단동 526-6', '부산시 사하구 하단동 497-27 2F', '부산시 사하구 하단동 885-1 1F', '부산시 사하구 하단동 489-43', '부산시 사하구 하단동 1165-7', '부산시 사하구 하단동 870-166', '부산시 사하구 하단동 527-23', '부산시 사하구 하단동 490-25 B-102호', '부산시 사하구 하단동 870-17 1F', '부산시 사하구 하단동 489-23 1F', '부산시 사하구 하단동 522-24 1F', '부산시 사하구 하단동 492-29', '부산시 사하구 하단동 500-4']\n"
          ]
        }
      ]
    },
    {
      "cell_type": "code",
      "source": [
        "print(len(phone_number))\n",
        "print(phone_number)"
      ],
      "metadata": {
        "colab": {
          "base_uri": "https://localhost:8080/"
        },
        "id": "6PwZn89ScSp5",
        "outputId": "f172218a-e0cd-4915-dc45-d34b4ae38251"
      },
      "execution_count": 104,
      "outputs": [
        {
          "output_type": "stream",
          "name": "stdout",
          "text": [
            "176\n",
            "[<td>051-291-7834</td>, <td>051-900-8935</td>, <td>051-515-7119</td>, <td>051-206-0750</td>, <td>051-202-9234</td>, <td>0507-1415-0715</td>, <td>051-292-8250</td>, <td>051-292-5082</td>, <td>051-294-0116</td>, <td>010-3573-6157</td>, <td>051-207-8252</td>, <td>0507-1442-1189</td>, <td>051-208-4763</td>, <td>051-204-1050</td>, <td>0507-1436-1283</td>, <td>070-8882-0814</td>, <td>051-206-6003</td>, 'NaN', <td>051-205-8500</td>, <td>051-203-5557</td>, <td>070-7543-5062</td>, <td>051-207-7558</td>, <td>051-204-6858</td>, <td>051-946-3200</td>, <td>051-917-4979</td>, 'NaN', <td>051-202-2292</td>, <td>051-203-8383</td>, <td>051-202-1137</td>, <td>051-292-0053</td>, <td>051-208-8587</td>, <td>051-292-2888</td>, <td>051-204-9797</td>, <td>051-242-8732</td>, <td>051-715-1104</td>, <td>0507-1370-8562</td>, <td>051-946-7717</td>, <td>051-945-1979</td>, <td>051-203-7791</td>, <td>051-292-7154</td>, 'NaN', <td>051-206-7586</td>, <td>051-205-0440</td>, <td>051-203-3578</td>, <td>051-207-6555</td>, <td>051-205-9233</td>, <td>051-202-0021</td>, <td>051-293-0020</td>, <td>051-201-5592</td>, <td>051-204-7511</td>, <td>051-205-4161</td>, <td>051-202-6735</td>, <td>051-206-2259</td>, <td>051-202-7080</td>, <td>051-203-9880</td>, <td>051-202-6840</td>, <td>051-322-3049</td>, <td>051-208-1793</td>, <td>051-201-1550</td>, <td>051-201-2102</td>, <td>051-206-3339</td>, <td>0507-1326-2350</td>, <td>051-292-7476</td>, <td>051-293-7373</td>, <td>051-992-0007</td>, <td>070-4149-0096</td>, <td>051-203-2110</td>, <td>051-201-0750</td>, <td>051-201-2666</td>, <td>051-293-0777</td>, <td>051-999-7450</td>, <td>051-202-9729</td>, <td>051-205-7333</td>, <td>051-207-9948</td>, 'NaN', <td>051-207-6369</td>, <td>051-294-1050</td>, 'NaN', 'NaN', <td>051-292-6661</td>, <td>051-315-4801</td>, <td>051-291-2940</td>, <td>051-904-2211</td>, <td>051-291-1777</td>, <td>051-207-7852</td>, 'NaN', <td>051-914-8285</td>, <td>051-207-8707</td>, <td>051-207-0147</td>, <td>051-208-8585</td>, <td>051-202-4100</td>, <td>051-292-7862</td>, <td>051-205-4900</td>, <td>051-203-1346</td>, <td>051-293-4197</td>, <td>051-203-9919</td>, <td>051-202-6247</td>, <td>051-201-3330</td>, <td>051-204-9933</td>, <td>051-291-7831</td>, <td>051-201-2249</td>, <td>051-205-2223</td>, <td>051-204-8410</td>, <td>051-207-2629</td>, <td>051-208-3735</td>, <td>051-204-9090</td>, <td>051-271-4567</td>, <td>070-8876-6040</td>, <td>051-201-5743</td>, <td>051-291-4340</td>, <td>051-205-7292</td>, <td>051-202-6888</td>, <td>051-293-9279</td>, <td>051-293-4959</td>, <td>051-204-5802</td>, <td>051-202-3234</td>, <td>051-291-7336</td>, 'NaN', <td>051-205-2441</td>, <td>051-291-1056</td>, <td>070-8878-2282</td>, <td>051-291-3458</td>, <td>051-293-5700</td>, <td>051-204-5066</td>, <td>051-999-7554</td>, <td>051-901-9200</td>, <td>051-202-3999</td>, <td>051-204-2443</td>, <td>051-294-0010</td>, <td>051-316-9313</td>, <td>051-293-6166</td>, <td>051-291-5777</td>, <td>051-203-5184</td>, <td>051-207-7757</td>, <td>051-292-8267</td>, <td>051-291-8599</td>, <td>051-293-3335</td>, <td>070-4797-2929</td>, <td>010-2595-0820</td>, <td>051-291-9285</td>, <td>051-293-1039</td>, <td>051-987-8268</td>, <td>0503-5339-0394</td>, <td>051-293-4376</td>, <td>051-203-5222</td>, <td>051-294-2048</td>, <td>051-271-6661</td>, <td>051-291-6400</td>, <td>051-205-5578</td>, <td>051-202-9020</td>, <td>051-294-8836</td>, <td>051-291-4748</td>, <td>051-203-9888</td>, <td>051-324-2094</td>, <td>051-201-3443</td>, <td>051-293-1777</td>, <td>051-291-9279</td>, <td>051-203-9366</td>, <td>051-202-1144</td>, <td>051-206-9822</td>, <td>051-293-7776</td>, 'NaN', <td>051-207-1603</td>, <td>051-999-7555</td>, <td>0507-1321-3765</td>, <td>051-294-9884</td>, 'NaN', <td>051-293-6762</td>, <td>010-4580-6451</td>, <td>051-206-8311</td>, <td>051-292-0901</td>, <td>010-7487-1055</td>, <td>070-8868-8025</td>, <td>070-8823-2022</td>, <td>051-292-9786</td>, <td>051-201-1414</td>]\n"
          ]
        }
      ]
    },
    {
      "cell_type": "markdown",
      "source": [
        "---\n",
        "# 02. Data Processing\n",
        "---"
      ],
      "metadata": {
        "id": "LMRFKZGNiiCF"
      }
    },
    {
      "cell_type": "code",
      "source": [
        "real_phone_number = []"
      ],
      "metadata": {
        "id": "VXw1CxTqqLSe"
      },
      "execution_count": 115,
      "outputs": []
    },
    {
      "cell_type": "code",
      "source": [
        "for i in phone_number:\n",
        "    num = str(i)\n",
        "    num = num.replace(\"<td>\", \"\")\n",
        "    num = num.replace(\"</td>\", \"\")\n",
        "    real_phone_number.append(num)"
      ],
      "metadata": {
        "id": "lqOXCv80pO3u"
      },
      "execution_count": 116,
      "outputs": []
    },
    {
      "cell_type": "code",
      "source": [
        "print(len(real_phone_number))"
      ],
      "metadata": {
        "colab": {
          "base_uri": "https://localhost:8080/"
        },
        "id": "L7ZNRQu7sC6z",
        "outputId": "01039d71-eb33-4a4a-c03a-bd262a0c245f"
      },
      "execution_count": 123,
      "outputs": [
        {
          "output_type": "stream",
          "name": "stdout",
          "text": [
            "176\n"
          ]
        }
      ]
    },
    {
      "cell_type": "markdown",
      "source": [
        "---\n",
        "# 03. Create: DataFrame\n",
        "---"
      ],
      "metadata": {
        "id": "3K9YTK_uqsBt"
      }
    },
    {
      "cell_type": "code",
      "source": [
        "data = {\n",
        "    \"Restaurant_name\": name,\n",
        "    \"Address\": address,\n",
        "    \"Phone_number\": real_phone_number\n",
        "}"
      ],
      "metadata": {
        "id": "MM9Nw9emiAMl"
      },
      "execution_count": 117,
      "outputs": []
    },
    {
      "cell_type": "code",
      "source": [
        "df = pd.DataFrame(data)\n",
        "df"
      ],
      "metadata": {
        "colab": {
          "base_uri": "https://localhost:8080/",
          "height": 423
        },
        "id": "nRZN82RljBJn",
        "outputId": "429e0784-75da-49ac-f338-96ef0f5f7d3a"
      },
      "execution_count": 118,
      "outputs": [
        {
          "output_type": "execute_result",
          "data": {
            "text/plain": [
              "    Restaurant_name                Address   Phone_number\n",
              "0              복성반점     부산시 사하구 하단동 605-38   051-291-7834\n",
              "1               담쟁이        부산시 사하구 하단동 198   051-900-8935\n",
              "2               영성방     부산시 사하구 하단동 1179-7   051-515-7119\n",
              "3               누리봄    부산시 사하구 하단동 1151-14   051-206-0750\n",
              "4         더덕먹은제주뚱돼지     부산시 사하구 하단동 515-25   051-202-9234\n",
              "..              ...                    ...            ...\n",
              "171            백호횟집  부산시 사하구 하단동 870-17 1F  010-7487-1055\n",
              "172             내키고  부산시 사하구 하단동 489-23 1F  070-8868-8025\n",
              "173            멕스타코  부산시 사하구 하단동 522-24 1F  070-8823-2022\n",
              "174            동아분식     부산시 사하구 하단동 492-29   051-292-9786\n",
              "175            하단끝집      부산시 사하구 하단동 500-4   051-201-1414\n",
              "\n",
              "[176 rows x 3 columns]"
            ],
            "text/html": [
              "\n",
              "  <div id=\"df-b8b76d95-d4dd-4d4b-96c7-bea6ef8e6699\">\n",
              "    <div class=\"colab-df-container\">\n",
              "      <div>\n",
              "<style scoped>\n",
              "    .dataframe tbody tr th:only-of-type {\n",
              "        vertical-align: middle;\n",
              "    }\n",
              "\n",
              "    .dataframe tbody tr th {\n",
              "        vertical-align: top;\n",
              "    }\n",
              "\n",
              "    .dataframe thead th {\n",
              "        text-align: right;\n",
              "    }\n",
              "</style>\n",
              "<table border=\"1\" class=\"dataframe\">\n",
              "  <thead>\n",
              "    <tr style=\"text-align: right;\">\n",
              "      <th></th>\n",
              "      <th>Restaurant_name</th>\n",
              "      <th>Address</th>\n",
              "      <th>Phone_number</th>\n",
              "    </tr>\n",
              "  </thead>\n",
              "  <tbody>\n",
              "    <tr>\n",
              "      <th>0</th>\n",
              "      <td>복성반점</td>\n",
              "      <td>부산시 사하구 하단동 605-38</td>\n",
              "      <td>051-291-7834</td>\n",
              "    </tr>\n",
              "    <tr>\n",
              "      <th>1</th>\n",
              "      <td>담쟁이</td>\n",
              "      <td>부산시 사하구 하단동 198</td>\n",
              "      <td>051-900-8935</td>\n",
              "    </tr>\n",
              "    <tr>\n",
              "      <th>2</th>\n",
              "      <td>영성방</td>\n",
              "      <td>부산시 사하구 하단동 1179-7</td>\n",
              "      <td>051-515-7119</td>\n",
              "    </tr>\n",
              "    <tr>\n",
              "      <th>3</th>\n",
              "      <td>누리봄</td>\n",
              "      <td>부산시 사하구 하단동 1151-14</td>\n",
              "      <td>051-206-0750</td>\n",
              "    </tr>\n",
              "    <tr>\n",
              "      <th>4</th>\n",
              "      <td>더덕먹은제주뚱돼지</td>\n",
              "      <td>부산시 사하구 하단동 515-25</td>\n",
              "      <td>051-202-9234</td>\n",
              "    </tr>\n",
              "    <tr>\n",
              "      <th>...</th>\n",
              "      <td>...</td>\n",
              "      <td>...</td>\n",
              "      <td>...</td>\n",
              "    </tr>\n",
              "    <tr>\n",
              "      <th>171</th>\n",
              "      <td>백호횟집</td>\n",
              "      <td>부산시 사하구 하단동 870-17 1F</td>\n",
              "      <td>010-7487-1055</td>\n",
              "    </tr>\n",
              "    <tr>\n",
              "      <th>172</th>\n",
              "      <td>내키고</td>\n",
              "      <td>부산시 사하구 하단동 489-23 1F</td>\n",
              "      <td>070-8868-8025</td>\n",
              "    </tr>\n",
              "    <tr>\n",
              "      <th>173</th>\n",
              "      <td>멕스타코</td>\n",
              "      <td>부산시 사하구 하단동 522-24 1F</td>\n",
              "      <td>070-8823-2022</td>\n",
              "    </tr>\n",
              "    <tr>\n",
              "      <th>174</th>\n",
              "      <td>동아분식</td>\n",
              "      <td>부산시 사하구 하단동 492-29</td>\n",
              "      <td>051-292-9786</td>\n",
              "    </tr>\n",
              "    <tr>\n",
              "      <th>175</th>\n",
              "      <td>하단끝집</td>\n",
              "      <td>부산시 사하구 하단동 500-4</td>\n",
              "      <td>051-201-1414</td>\n",
              "    </tr>\n",
              "  </tbody>\n",
              "</table>\n",
              "<p>176 rows × 3 columns</p>\n",
              "</div>\n",
              "      <button class=\"colab-df-convert\" onclick=\"convertToInteractive('df-b8b76d95-d4dd-4d4b-96c7-bea6ef8e6699')\"\n",
              "              title=\"Convert this dataframe to an interactive table.\"\n",
              "              style=\"display:none;\">\n",
              "        \n",
              "  <svg xmlns=\"http://www.w3.org/2000/svg\" height=\"24px\"viewBox=\"0 0 24 24\"\n",
              "       width=\"24px\">\n",
              "    <path d=\"M0 0h24v24H0V0z\" fill=\"none\"/>\n",
              "    <path d=\"M18.56 5.44l.94 2.06.94-2.06 2.06-.94-2.06-.94-.94-2.06-.94 2.06-2.06.94zm-11 1L8.5 8.5l.94-2.06 2.06-.94-2.06-.94L8.5 2.5l-.94 2.06-2.06.94zm10 10l.94 2.06.94-2.06 2.06-.94-2.06-.94-.94-2.06-.94 2.06-2.06.94z\"/><path d=\"M17.41 7.96l-1.37-1.37c-.4-.4-.92-.59-1.43-.59-.52 0-1.04.2-1.43.59L10.3 9.45l-7.72 7.72c-.78.78-.78 2.05 0 2.83L4 21.41c.39.39.9.59 1.41.59.51 0 1.02-.2 1.41-.59l7.78-7.78 2.81-2.81c.8-.78.8-2.07 0-2.86zM5.41 20L4 18.59l7.72-7.72 1.47 1.35L5.41 20z\"/>\n",
              "  </svg>\n",
              "      </button>\n",
              "      \n",
              "  <style>\n",
              "    .colab-df-container {\n",
              "      display:flex;\n",
              "      flex-wrap:wrap;\n",
              "      gap: 12px;\n",
              "    }\n",
              "\n",
              "    .colab-df-convert {\n",
              "      background-color: #E8F0FE;\n",
              "      border: none;\n",
              "      border-radius: 50%;\n",
              "      cursor: pointer;\n",
              "      display: none;\n",
              "      fill: #1967D2;\n",
              "      height: 32px;\n",
              "      padding: 0 0 0 0;\n",
              "      width: 32px;\n",
              "    }\n",
              "\n",
              "    .colab-df-convert:hover {\n",
              "      background-color: #E2EBFA;\n",
              "      box-shadow: 0px 1px 2px rgba(60, 64, 67, 0.3), 0px 1px 3px 1px rgba(60, 64, 67, 0.15);\n",
              "      fill: #174EA6;\n",
              "    }\n",
              "\n",
              "    [theme=dark] .colab-df-convert {\n",
              "      background-color: #3B4455;\n",
              "      fill: #D2E3FC;\n",
              "    }\n",
              "\n",
              "    [theme=dark] .colab-df-convert:hover {\n",
              "      background-color: #434B5C;\n",
              "      box-shadow: 0px 1px 3px 1px rgba(0, 0, 0, 0.15);\n",
              "      filter: drop-shadow(0px 1px 2px rgba(0, 0, 0, 0.3));\n",
              "      fill: #FFFFFF;\n",
              "    }\n",
              "  </style>\n",
              "\n",
              "      <script>\n",
              "        const buttonEl =\n",
              "          document.querySelector('#df-b8b76d95-d4dd-4d4b-96c7-bea6ef8e6699 button.colab-df-convert');\n",
              "        buttonEl.style.display =\n",
              "          google.colab.kernel.accessAllowed ? 'block' : 'none';\n",
              "\n",
              "        async function convertToInteractive(key) {\n",
              "          const element = document.querySelector('#df-b8b76d95-d4dd-4d4b-96c7-bea6ef8e6699');\n",
              "          const dataTable =\n",
              "            await google.colab.kernel.invokeFunction('convertToInteractive',\n",
              "                                                     [key], {});\n",
              "          if (!dataTable) return;\n",
              "\n",
              "          const docLinkHtml = 'Like what you see? Visit the ' +\n",
              "            '<a target=\"_blank\" href=https://colab.research.google.com/notebooks/data_table.ipynb>data table notebook</a>'\n",
              "            + ' to learn more about interactive tables.';\n",
              "          element.innerHTML = '';\n",
              "          dataTable['output_type'] = 'display_data';\n",
              "          await google.colab.output.renderOutput(dataTable, element);\n",
              "          const docLink = document.createElement('div');\n",
              "          docLink.innerHTML = docLinkHtml;\n",
              "          element.appendChild(docLink);\n",
              "        }\n",
              "      </script>\n",
              "    </div>\n",
              "  </div>\n",
              "  "
            ]
          },
          "metadata": {},
          "execution_count": 118
        }
      ]
    },
    {
      "cell_type": "markdown",
      "source": [
        "---\n",
        "# 04. Save: DataFrame\n",
        "---"
      ],
      "metadata": {
        "id": "qpfI8miPq2pQ"
      }
    },
    {
      "cell_type": "code",
      "source": [
        "df.to_csv(\n",
        "    \"/content/drive/MyDrive/restaurant_information.csv\", sep=\",\", encoding=\"utf-8\"\n",
        ")"
      ],
      "metadata": {
        "id": "Nwwu536RqlkD"
      },
      "execution_count": 121,
      "outputs": []
    },
    {
      "cell_type": "markdown",
      "source": [
        "---\n",
        "# 05. Load: csv file\n",
        "---"
      ],
      "metadata": {
        "id": "F9_8kaHariFw"
      }
    },
    {
      "cell_type": "code",
      "source": [
        "df = pd.read_csv(\"/content/drive/MyDrive/restaurant_information.csv\", index_col=0)\n",
        "df"
      ],
      "metadata": {
        "colab": {
          "base_uri": "https://localhost:8080/",
          "height": 423
        },
        "id": "huY8j1fFraYh",
        "outputId": "90ef517a-0491-4165-a3a5-251872f2fde6"
      },
      "execution_count": 122,
      "outputs": [
        {
          "output_type": "execute_result",
          "data": {
            "text/plain": [
              "    Restaurant_name                Address   Phone_number\n",
              "0              복성반점     부산시 사하구 하단동 605-38   051-291-7834\n",
              "1               담쟁이        부산시 사하구 하단동 198   051-900-8935\n",
              "2               영성방     부산시 사하구 하단동 1179-7   051-515-7119\n",
              "3               누리봄    부산시 사하구 하단동 1151-14   051-206-0750\n",
              "4         더덕먹은제주뚱돼지     부산시 사하구 하단동 515-25   051-202-9234\n",
              "..              ...                    ...            ...\n",
              "171            백호횟집  부산시 사하구 하단동 870-17 1F  010-7487-1055\n",
              "172             내키고  부산시 사하구 하단동 489-23 1F  070-8868-8025\n",
              "173            멕스타코  부산시 사하구 하단동 522-24 1F  070-8823-2022\n",
              "174            동아분식     부산시 사하구 하단동 492-29   051-292-9786\n",
              "175            하단끝집      부산시 사하구 하단동 500-4   051-201-1414\n",
              "\n",
              "[176 rows x 3 columns]"
            ],
            "text/html": [
              "\n",
              "  <div id=\"df-4572dd1c-e5c7-403e-8e5d-00c8a1d602bf\">\n",
              "    <div class=\"colab-df-container\">\n",
              "      <div>\n",
              "<style scoped>\n",
              "    .dataframe tbody tr th:only-of-type {\n",
              "        vertical-align: middle;\n",
              "    }\n",
              "\n",
              "    .dataframe tbody tr th {\n",
              "        vertical-align: top;\n",
              "    }\n",
              "\n",
              "    .dataframe thead th {\n",
              "        text-align: right;\n",
              "    }\n",
              "</style>\n",
              "<table border=\"1\" class=\"dataframe\">\n",
              "  <thead>\n",
              "    <tr style=\"text-align: right;\">\n",
              "      <th></th>\n",
              "      <th>Restaurant_name</th>\n",
              "      <th>Address</th>\n",
              "      <th>Phone_number</th>\n",
              "    </tr>\n",
              "  </thead>\n",
              "  <tbody>\n",
              "    <tr>\n",
              "      <th>0</th>\n",
              "      <td>복성반점</td>\n",
              "      <td>부산시 사하구 하단동 605-38</td>\n",
              "      <td>051-291-7834</td>\n",
              "    </tr>\n",
              "    <tr>\n",
              "      <th>1</th>\n",
              "      <td>담쟁이</td>\n",
              "      <td>부산시 사하구 하단동 198</td>\n",
              "      <td>051-900-8935</td>\n",
              "    </tr>\n",
              "    <tr>\n",
              "      <th>2</th>\n",
              "      <td>영성방</td>\n",
              "      <td>부산시 사하구 하단동 1179-7</td>\n",
              "      <td>051-515-7119</td>\n",
              "    </tr>\n",
              "    <tr>\n",
              "      <th>3</th>\n",
              "      <td>누리봄</td>\n",
              "      <td>부산시 사하구 하단동 1151-14</td>\n",
              "      <td>051-206-0750</td>\n",
              "    </tr>\n",
              "    <tr>\n",
              "      <th>4</th>\n",
              "      <td>더덕먹은제주뚱돼지</td>\n",
              "      <td>부산시 사하구 하단동 515-25</td>\n",
              "      <td>051-202-9234</td>\n",
              "    </tr>\n",
              "    <tr>\n",
              "      <th>...</th>\n",
              "      <td>...</td>\n",
              "      <td>...</td>\n",
              "      <td>...</td>\n",
              "    </tr>\n",
              "    <tr>\n",
              "      <th>171</th>\n",
              "      <td>백호횟집</td>\n",
              "      <td>부산시 사하구 하단동 870-17 1F</td>\n",
              "      <td>010-7487-1055</td>\n",
              "    </tr>\n",
              "    <tr>\n",
              "      <th>172</th>\n",
              "      <td>내키고</td>\n",
              "      <td>부산시 사하구 하단동 489-23 1F</td>\n",
              "      <td>070-8868-8025</td>\n",
              "    </tr>\n",
              "    <tr>\n",
              "      <th>173</th>\n",
              "      <td>멕스타코</td>\n",
              "      <td>부산시 사하구 하단동 522-24 1F</td>\n",
              "      <td>070-8823-2022</td>\n",
              "    </tr>\n",
              "    <tr>\n",
              "      <th>174</th>\n",
              "      <td>동아분식</td>\n",
              "      <td>부산시 사하구 하단동 492-29</td>\n",
              "      <td>051-292-9786</td>\n",
              "    </tr>\n",
              "    <tr>\n",
              "      <th>175</th>\n",
              "      <td>하단끝집</td>\n",
              "      <td>부산시 사하구 하단동 500-4</td>\n",
              "      <td>051-201-1414</td>\n",
              "    </tr>\n",
              "  </tbody>\n",
              "</table>\n",
              "<p>176 rows × 3 columns</p>\n",
              "</div>\n",
              "      <button class=\"colab-df-convert\" onclick=\"convertToInteractive('df-4572dd1c-e5c7-403e-8e5d-00c8a1d602bf')\"\n",
              "              title=\"Convert this dataframe to an interactive table.\"\n",
              "              style=\"display:none;\">\n",
              "        \n",
              "  <svg xmlns=\"http://www.w3.org/2000/svg\" height=\"24px\"viewBox=\"0 0 24 24\"\n",
              "       width=\"24px\">\n",
              "    <path d=\"M0 0h24v24H0V0z\" fill=\"none\"/>\n",
              "    <path d=\"M18.56 5.44l.94 2.06.94-2.06 2.06-.94-2.06-.94-.94-2.06-.94 2.06-2.06.94zm-11 1L8.5 8.5l.94-2.06 2.06-.94-2.06-.94L8.5 2.5l-.94 2.06-2.06.94zm10 10l.94 2.06.94-2.06 2.06-.94-2.06-.94-.94-2.06-.94 2.06-2.06.94z\"/><path d=\"M17.41 7.96l-1.37-1.37c-.4-.4-.92-.59-1.43-.59-.52 0-1.04.2-1.43.59L10.3 9.45l-7.72 7.72c-.78.78-.78 2.05 0 2.83L4 21.41c.39.39.9.59 1.41.59.51 0 1.02-.2 1.41-.59l7.78-7.78 2.81-2.81c.8-.78.8-2.07 0-2.86zM5.41 20L4 18.59l7.72-7.72 1.47 1.35L5.41 20z\"/>\n",
              "  </svg>\n",
              "      </button>\n",
              "      \n",
              "  <style>\n",
              "    .colab-df-container {\n",
              "      display:flex;\n",
              "      flex-wrap:wrap;\n",
              "      gap: 12px;\n",
              "    }\n",
              "\n",
              "    .colab-df-convert {\n",
              "      background-color: #E8F0FE;\n",
              "      border: none;\n",
              "      border-radius: 50%;\n",
              "      cursor: pointer;\n",
              "      display: none;\n",
              "      fill: #1967D2;\n",
              "      height: 32px;\n",
              "      padding: 0 0 0 0;\n",
              "      width: 32px;\n",
              "    }\n",
              "\n",
              "    .colab-df-convert:hover {\n",
              "      background-color: #E2EBFA;\n",
              "      box-shadow: 0px 1px 2px rgba(60, 64, 67, 0.3), 0px 1px 3px 1px rgba(60, 64, 67, 0.15);\n",
              "      fill: #174EA6;\n",
              "    }\n",
              "\n",
              "    [theme=dark] .colab-df-convert {\n",
              "      background-color: #3B4455;\n",
              "      fill: #D2E3FC;\n",
              "    }\n",
              "\n",
              "    [theme=dark] .colab-df-convert:hover {\n",
              "      background-color: #434B5C;\n",
              "      box-shadow: 0px 1px 3px 1px rgba(0, 0, 0, 0.15);\n",
              "      filter: drop-shadow(0px 1px 2px rgba(0, 0, 0, 0.3));\n",
              "      fill: #FFFFFF;\n",
              "    }\n",
              "  </style>\n",
              "\n",
              "      <script>\n",
              "        const buttonEl =\n",
              "          document.querySelector('#df-4572dd1c-e5c7-403e-8e5d-00c8a1d602bf button.colab-df-convert');\n",
              "        buttonEl.style.display =\n",
              "          google.colab.kernel.accessAllowed ? 'block' : 'none';\n",
              "\n",
              "        async function convertToInteractive(key) {\n",
              "          const element = document.querySelector('#df-4572dd1c-e5c7-403e-8e5d-00c8a1d602bf');\n",
              "          const dataTable =\n",
              "            await google.colab.kernel.invokeFunction('convertToInteractive',\n",
              "                                                     [key], {});\n",
              "          if (!dataTable) return;\n",
              "\n",
              "          const docLinkHtml = 'Like what you see? Visit the ' +\n",
              "            '<a target=\"_blank\" href=https://colab.research.google.com/notebooks/data_table.ipynb>data table notebook</a>'\n",
              "            + ' to learn more about interactive tables.';\n",
              "          element.innerHTML = '';\n",
              "          dataTable['output_type'] = 'display_data';\n",
              "          await google.colab.output.renderOutput(dataTable, element);\n",
              "          const docLink = document.createElement('div');\n",
              "          docLink.innerHTML = docLinkHtml;\n",
              "          element.appendChild(docLink);\n",
              "        }\n",
              "      </script>\n",
              "    </div>\n",
              "  </div>\n",
              "  "
            ]
          },
          "metadata": {},
          "execution_count": 122
        }
      ]
    }
  ],
  "metadata": {
    "accelerator": "GPU",
    "colab": {
      "provenance": [],
      "gpuType": "T4"
    },
    "gpuClass": "standard",
    "kernelspec": {
      "display_name": "Python 3",
      "name": "python3"
    },
    "language_info": {
      "name": "python"
    }
  },
  "nbformat": 4,
  "nbformat_minor": 0
}